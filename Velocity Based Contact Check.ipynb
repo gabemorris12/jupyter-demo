{
 "cells": [
  {
   "cell_type": "code",
   "id": "52717a9f060bf50",
   "metadata": {
    "collapsed": false,
    "editable": true,
    "slideshow": {
     "slide_type": ""
    },
    "tags": [],
    "ExecuteTime": {
     "end_time": "2024-05-20T02:56:08.493907Z",
     "start_time": "2024-05-20T02:56:08.135791Z"
    }
   },
   "source": [
    "import sympy as sp\n",
    "from sympy.abc import x, y, z"
   ],
   "outputs": [],
   "execution_count": 1
  },
  {
   "cell_type": "markdown",
   "id": "657207dc5c8d4212",
   "metadata": {
    "collapsed": false
   },
   "source": [
    "![Master Surface](Master%20Surface%20Definition.PNG)\n",
    "\n",
    "Above is the definition for a master surface. See Appendix 1 for the more rigorous details about the procedure. The purpose of this walkthrough is to verify the math in the appendix."
   ]
  },
  {
   "cell_type": "code",
   "id": "18921d823d5b3381",
   "metadata": {
    "collapsed": false,
    "ExecuteTime": {
     "end_time": "2024-05-20T02:56:08.549660Z",
     "start_time": "2024-05-20T02:56:08.494912Z"
    }
   },
   "source": [
    "# Making symbols for the nodes\n",
    "x1, x2, x3 = sp.symbols('x1:4')\n",
    "y1, y2, y3 = sp.symbols('y1:4')\n",
    "z1, z2, z3 = sp.symbols('z1:4')\n",
    "\n",
    "# Node coordinate points\n",
    "n1 = sp.Matrix([x1, y1, z1])\n",
    "n2 = sp.Matrix([x2, y2, z2])\n",
    "n3 = sp.Matrix([x3, y3, z3])\n",
    "\n",
    "x_vec = n1 - n3\n",
    "y_vec = n2 - n1\n",
    "\n",
    "N_m = x_vec.cross(y_vec)\n",
    "a, b, c = N_m\n",
    "display(x_vec, y_vec, N_m)"
   ],
   "outputs": [
    {
     "data": {
      "text/plain": [
       "Matrix([\n",
       "[x1 - x3],\n",
       "[y1 - y3],\n",
       "[z1 - z3]])"
      ],
      "text/latex": "$\\displaystyle \\left[\\begin{matrix}x_{1} - x_{3}\\\\y_{1} - y_{3}\\\\z_{1} - z_{3}\\end{matrix}\\right]$"
     },
     "metadata": {},
     "output_type": "display_data"
    },
    {
     "data": {
      "text/plain": [
       "Matrix([\n",
       "[-x1 + x2],\n",
       "[-y1 + y2],\n",
       "[-z1 + z2]])"
      ],
      "text/latex": "$\\displaystyle \\left[\\begin{matrix}- x_{1} + x_{2}\\\\- y_{1} + y_{2}\\\\- z_{1} + z_{2}\\end{matrix}\\right]$"
     },
     "metadata": {},
     "output_type": "display_data"
    },
    {
     "data": {
      "text/plain": [
       "Matrix([\n",
       "[-(-y1 + y2)*(z1 - z3) + (y1 - y3)*(-z1 + z2)],\n",
       "[ (-x1 + x2)*(z1 - z3) - (x1 - x3)*(-z1 + z2)],\n",
       "[-(-x1 + x2)*(y1 - y3) + (x1 - x3)*(-y1 + y2)]])"
      ],
      "text/latex": "$\\displaystyle \\left[\\begin{matrix}- \\left(- y_{1} + y_{2}\\right) \\left(z_{1} - z_{3}\\right) + \\left(y_{1} - y_{3}\\right) \\left(- z_{1} + z_{2}\\right)\\\\\\left(- x_{1} + x_{2}\\right) \\left(z_{1} - z_{3}\\right) - \\left(x_{1} - x_{3}\\right) \\left(- z_{1} + z_{2}\\right)\\\\- \\left(- x_{1} + x_{2}\\right) \\left(y_{1} - y_{3}\\right) + \\left(x_{1} - x_{3}\\right) \\left(- y_{1} + y_{2}\\right)\\end{matrix}\\right]$"
     },
     "metadata": {},
     "output_type": "display_data"
    }
   ],
   "execution_count": 2
  },
  {
   "cell_type": "markdown",
   "id": "1d57c90d27a3f852",
   "metadata": {
    "collapsed": false
   },
   "source": [
    "The definition of the plane then becomes the following,"
   ]
  },
  {
   "cell_type": "code",
   "id": "initial_id",
   "metadata": {
    "collapsed": true,
    "jupyter": {
     "outputs_hidden": true
    },
    "ExecuteTime": {
     "end_time": "2024-05-20T02:56:08.613923Z",
     "start_time": "2024-05-20T02:56:08.550667Z"
    }
   },
   "source": [
    "master_pln = (a*(x - x1) + b*(y - y1) + c*(z - z1)).expand().collect((x, y, z))\n",
    "master_pln = sp.Eq(master_pln, 0)\n",
    "master_pln"
   ],
   "outputs": [
    {
     "data": {
      "text/plain": [
       "Eq(x*(y1*z2 - y1*z3 - y2*z1 + y2*z3 + y3*z1 - y3*z2) - x1*y2*z3 + x1*y3*z2 + x2*y1*z3 - x2*y3*z1 - x3*y1*z2 + x3*y2*z1 + y*(-x1*z2 + x1*z3 + x2*z1 - x2*z3 - x3*z1 + x3*z2) + z*(x1*y2 - x1*y3 - x2*y1 + x2*y3 + x3*y1 - x3*y2), 0)"
      ],
      "text/latex": "$\\displaystyle x \\left(y_{1} z_{2} - y_{1} z_{3} - y_{2} z_{1} + y_{2} z_{3} + y_{3} z_{1} - y_{3} z_{2}\\right) - x_{1} y_{2} z_{3} + x_{1} y_{3} z_{2} + x_{2} y_{1} z_{3} - x_{2} y_{3} z_{1} - x_{3} y_{1} z_{2} + x_{3} y_{2} z_{1} + y \\left(- x_{1} z_{2} + x_{1} z_{3} + x_{2} z_{1} - x_{2} z_{3} - x_{3} z_{1} + x_{3} z_{2}\\right) + z \\left(x_{1} y_{2} - x_{1} y_{3} - x_{2} y_{1} + x_{2} y_{3} + x_{3} y_{1} - x_{3} y_{2}\\right) = 0$"
     },
     "execution_count": 3,
     "metadata": {},
     "output_type": "execute_result"
    }
   ],
   "execution_count": 3
  },
  {
   "cell_type": "markdown",
   "id": "2a6c463e19fb3770",
   "metadata": {
    "collapsed": false
   },
   "source": [
    "The above is the equation of the triangular master surface plane in terms of the two master nodes and the centroid node. If we consider the fact that the position of the plane changes with velocity, then we can know the plane equation after some $\\Delta t$ by using the following:\n",
    "\n",
    "$$\n",
    "\\begin{aligned}\n",
    "\\langle x_i(t + \\Delta t), y_i(t + \\Delta t), z_i(t + \\Delta t)\\rangle &= \\\\\n",
    "\\langle x_i(t) + \\dot{x}_i\\Delta t, y_i(t) + \\dot{y}_i\\Delta t, z_i(t) + \\dot{z}_i\\Delta t \\rangle &\n",
    "\\end{aligned}\n",
    "$$"
   ]
  },
  {
   "cell_type": "code",
   "id": "8aabb0a7bf8f1d51",
   "metadata": {
    "collapsed": false,
    "ExecuteTime": {
     "end_time": "2024-05-20T02:56:08.773388Z",
     "start_time": "2024-05-20T02:56:08.614931Z"
    }
   },
   "source": [
    "# Making substitution\n",
    "x1_dot, y1_dot, z1_dot = sp.symbols(r'\\dot{x}_1 \\dot{y}_1 \\dot{z}_1')\n",
    "x2_dot, y2_dot, z2_dot = sp.symbols(r'\\dot{x}_2 \\dot{y}_2 \\dot{z}_2')\n",
    "x3_dot, y3_dot, z3_dot = sp.symbols(r'\\dot{x}_3 \\dot{y}_3 \\dot{z}_3')\n",
    "del_t = sp.Symbol(r'\\Delta t')\n",
    "\n",
    "del_t_sub = master_pln.lhs.subs([\n",
    "    (x1, x1 + x1_dot*del_t),\n",
    "    (y1, y1 + y1_dot*del_t),\n",
    "    (z1, z1 + z1_dot*del_t),\n",
    "    (x2, x2 + x2_dot*del_t),\n",
    "    (y2, y2 + y2_dot*del_t),\n",
    "    (z2, z2 + z2_dot*del_t),\n",
    "    (x3, x3 + x3_dot*del_t),\n",
    "    (y3, y3 + y3_dot*del_t),\n",
    "    (z3, z3 + z3_dot*del_t)\n",
    "])\n",
    "\n",
    "del_t_sub = sp.Eq(del_t_sub.expand().collect((x, y, z)), 0)\n",
    "a0 = del_t_sub.lhs.subs([(x, 0), (y, 0), (z, 0)])\n",
    "a1 = del_t_sub.lhs.coeff(x)\n",
    "a2 = del_t_sub.lhs.coeff(y)\n",
    "a3 = del_t_sub.lhs.coeff(z)"
   ],
   "outputs": [],
   "execution_count": 4
  },
  {
   "cell_type": "markdown",
   "id": "855ba70ab90332e0",
   "metadata": {
    "collapsed": false
   },
   "source": [
    "This plane equation in terms of $\\Delta t$ is expressed as the following,\n",
    "\n",
    "$$a_0 + a_1x + a_2y + a_3z = 0$$\n",
    "\n",
    "where\n",
    "\n",
    "$a_0=$"
   ]
  },
  {
   "cell_type": "code",
   "id": "4ce7f559ce602770",
   "metadata": {
    "collapsed": false,
    "editable": true,
    "slideshow": {
     "slide_type": ""
    },
    "tags": [
     "hide"
    ],
    "ExecuteTime": {
     "end_time": "2024-05-20T02:56:08.787972Z",
     "start_time": "2024-05-20T02:56:08.774396Z"
    }
   },
   "source": [
    "display(a0)"
   ],
   "outputs": [
    {
     "data": {
      "text/plain": [
       "-\\Delta t**3*\\dot{x}_1*\\dot{y}_2*\\dot{z}_3 + \\Delta t**3*\\dot{x}_1*\\dot{y}_3*\\dot{z}_2 + \\Delta t**3*\\dot{x}_2*\\dot{y}_1*\\dot{z}_3 - \\Delta t**3*\\dot{x}_2*\\dot{y}_3*\\dot{z}_1 - \\Delta t**3*\\dot{x}_3*\\dot{y}_1*\\dot{z}_2 + \\Delta t**3*\\dot{x}_3*\\dot{y}_2*\\dot{z}_1 - \\Delta t**2*\\dot{x}_1*\\dot{y}_2*z3 + \\Delta t**2*\\dot{x}_1*\\dot{y}_3*z2 + \\Delta t**2*\\dot{x}_1*\\dot{z}_2*y3 - \\Delta t**2*\\dot{x}_1*\\dot{z}_3*y2 + \\Delta t**2*\\dot{x}_2*\\dot{y}_1*z3 - \\Delta t**2*\\dot{x}_2*\\dot{y}_3*z1 - \\Delta t**2*\\dot{x}_2*\\dot{z}_1*y3 + \\Delta t**2*\\dot{x}_2*\\dot{z}_3*y1 - \\Delta t**2*\\dot{x}_3*\\dot{y}_1*z2 + \\Delta t**2*\\dot{x}_3*\\dot{y}_2*z1 + \\Delta t**2*\\dot{x}_3*\\dot{z}_1*y2 - \\Delta t**2*\\dot{x}_3*\\dot{z}_2*y1 - \\Delta t**2*\\dot{y}_1*\\dot{z}_2*x3 + \\Delta t**2*\\dot{y}_1*\\dot{z}_3*x2 + \\Delta t**2*\\dot{y}_2*\\dot{z}_1*x3 - \\Delta t**2*\\dot{y}_2*\\dot{z}_3*x1 - \\Delta t**2*\\dot{y}_3*\\dot{z}_1*x2 + \\Delta t**2*\\dot{y}_3*\\dot{z}_2*x1 - \\Delta t*\\dot{x}_1*y2*z3 + \\Delta t*\\dot{x}_1*y3*z2 + \\Delta t*\\dot{x}_2*y1*z3 - \\Delta t*\\dot{x}_2*y3*z1 - \\Delta t*\\dot{x}_3*y1*z2 + \\Delta t*\\dot{x}_3*y2*z1 + \\Delta t*\\dot{y}_1*x2*z3 - \\Delta t*\\dot{y}_1*x3*z2 - \\Delta t*\\dot{y}_2*x1*z3 + \\Delta t*\\dot{y}_2*x3*z1 + \\Delta t*\\dot{y}_3*x1*z2 - \\Delta t*\\dot{y}_3*x2*z1 - \\Delta t*\\dot{z}_1*x2*y3 + \\Delta t*\\dot{z}_1*x3*y2 + \\Delta t*\\dot{z}_2*x1*y3 - \\Delta t*\\dot{z}_2*x3*y1 - \\Delta t*\\dot{z}_3*x1*y2 + \\Delta t*\\dot{z}_3*x2*y1 - x1*y2*z3 + x1*y3*z2 + x2*y1*z3 - x2*y3*z1 - x3*y1*z2 + x3*y2*z1"
      ],
      "text/latex": "$\\displaystyle - \\Delta t^{3} \\dot{x}_1 \\dot{y}_2 \\dot{z}_3 + \\Delta t^{3} \\dot{x}_1 \\dot{y}_3 \\dot{z}_2 + \\Delta t^{3} \\dot{x}_2 \\dot{y}_1 \\dot{z}_3 - \\Delta t^{3} \\dot{x}_2 \\dot{y}_3 \\dot{z}_1 - \\Delta t^{3} \\dot{x}_3 \\dot{y}_1 \\dot{z}_2 + \\Delta t^{3} \\dot{x}_3 \\dot{y}_2 \\dot{z}_1 - \\Delta t^{2} \\dot{x}_1 \\dot{y}_2 z_{3} + \\Delta t^{2} \\dot{x}_1 \\dot{y}_3 z_{2} + \\Delta t^{2} \\dot{x}_1 \\dot{z}_2 y_{3} - \\Delta t^{2} \\dot{x}_1 \\dot{z}_3 y_{2} + \\Delta t^{2} \\dot{x}_2 \\dot{y}_1 z_{3} - \\Delta t^{2} \\dot{x}_2 \\dot{y}_3 z_{1} - \\Delta t^{2} \\dot{x}_2 \\dot{z}_1 y_{3} + \\Delta t^{2} \\dot{x}_2 \\dot{z}_3 y_{1} - \\Delta t^{2} \\dot{x}_3 \\dot{y}_1 z_{2} + \\Delta t^{2} \\dot{x}_3 \\dot{y}_2 z_{1} + \\Delta t^{2} \\dot{x}_3 \\dot{z}_1 y_{2} - \\Delta t^{2} \\dot{x}_3 \\dot{z}_2 y_{1} - \\Delta t^{2} \\dot{y}_1 \\dot{z}_2 x_{3} + \\Delta t^{2} \\dot{y}_1 \\dot{z}_3 x_{2} + \\Delta t^{2} \\dot{y}_2 \\dot{z}_1 x_{3} - \\Delta t^{2} \\dot{y}_2 \\dot{z}_3 x_{1} - \\Delta t^{2} \\dot{y}_3 \\dot{z}_1 x_{2} + \\Delta t^{2} \\dot{y}_3 \\dot{z}_2 x_{1} - \\Delta t \\dot{x}_1 y_{2} z_{3} + \\Delta t \\dot{x}_1 y_{3} z_{2} + \\Delta t \\dot{x}_2 y_{1} z_{3} - \\Delta t \\dot{x}_2 y_{3} z_{1} - \\Delta t \\dot{x}_3 y_{1} z_{2} + \\Delta t \\dot{x}_3 y_{2} z_{1} + \\Delta t \\dot{y}_1 x_{2} z_{3} - \\Delta t \\dot{y}_1 x_{3} z_{2} - \\Delta t \\dot{y}_2 x_{1} z_{3} + \\Delta t \\dot{y}_2 x_{3} z_{1} + \\Delta t \\dot{y}_3 x_{1} z_{2} - \\Delta t \\dot{y}_3 x_{2} z_{1} - \\Delta t \\dot{z}_1 x_{2} y_{3} + \\Delta t \\dot{z}_1 x_{3} y_{2} + \\Delta t \\dot{z}_2 x_{1} y_{3} - \\Delta t \\dot{z}_2 x_{3} y_{1} - \\Delta t \\dot{z}_3 x_{1} y_{2} + \\Delta t \\dot{z}_3 x_{2} y_{1} - x_{1} y_{2} z_{3} + x_{1} y_{3} z_{2} + x_{2} y_{1} z_{3} - x_{2} y_{3} z_{1} - x_{3} y_{1} z_{2} + x_{3} y_{2} z_{1}$"
     },
     "metadata": {},
     "output_type": "display_data"
    }
   ],
   "execution_count": 5
  },
  {
   "cell_type": "markdown",
   "id": "30049c3cacc3d356",
   "metadata": {
    "collapsed": false,
    "editable": true,
    "slideshow": {
     "slide_type": ""
    },
    "tags": []
   },
   "source": [
    "\n",
    "---\n",
    "\n",
    "$a_1=$"
   ]
  },
  {
   "cell_type": "code",
   "id": "6cd98db94b23f85",
   "metadata": {
    "collapsed": false,
    "editable": true,
    "slideshow": {
     "slide_type": ""
    },
    "tags": [
     "hide"
    ],
    "ExecuteTime": {
     "end_time": "2024-05-20T02:56:08.799462Z",
     "start_time": "2024-05-20T02:56:08.788980Z"
    }
   },
   "source": [
    "display(a1)"
   ],
   "outputs": [
    {
     "data": {
      "text/plain": [
       "\\Delta t**2*\\dot{y}_1*\\dot{z}_2 - \\Delta t**2*\\dot{y}_1*\\dot{z}_3 - \\Delta t**2*\\dot{y}_2*\\dot{z}_1 + \\Delta t**2*\\dot{y}_2*\\dot{z}_3 + \\Delta t**2*\\dot{y}_3*\\dot{z}_1 - \\Delta t**2*\\dot{y}_3*\\dot{z}_2 + \\Delta t*\\dot{y}_1*z2 - \\Delta t*\\dot{y}_1*z3 - \\Delta t*\\dot{y}_2*z1 + \\Delta t*\\dot{y}_2*z3 + \\Delta t*\\dot{y}_3*z1 - \\Delta t*\\dot{y}_3*z2 - \\Delta t*\\dot{z}_1*y2 + \\Delta t*\\dot{z}_1*y3 + \\Delta t*\\dot{z}_2*y1 - \\Delta t*\\dot{z}_2*y3 - \\Delta t*\\dot{z}_3*y1 + \\Delta t*\\dot{z}_3*y2 + y1*z2 - y1*z3 - y2*z1 + y2*z3 + y3*z1 - y3*z2"
      ],
      "text/latex": "$\\displaystyle \\Delta t^{2} \\dot{y}_1 \\dot{z}_2 - \\Delta t^{2} \\dot{y}_1 \\dot{z}_3 - \\Delta t^{2} \\dot{y}_2 \\dot{z}_1 + \\Delta t^{2} \\dot{y}_2 \\dot{z}_3 + \\Delta t^{2} \\dot{y}_3 \\dot{z}_1 - \\Delta t^{2} \\dot{y}_3 \\dot{z}_2 + \\Delta t \\dot{y}_1 z_{2} - \\Delta t \\dot{y}_1 z_{3} - \\Delta t \\dot{y}_2 z_{1} + \\Delta t \\dot{y}_2 z_{3} + \\Delta t \\dot{y}_3 z_{1} - \\Delta t \\dot{y}_3 z_{2} - \\Delta t \\dot{z}_1 y_{2} + \\Delta t \\dot{z}_1 y_{3} + \\Delta t \\dot{z}_2 y_{1} - \\Delta t \\dot{z}_2 y_{3} - \\Delta t \\dot{z}_3 y_{1} + \\Delta t \\dot{z}_3 y_{2} + y_{1} z_{2} - y_{1} z_{3} - y_{2} z_{1} + y_{2} z_{3} + y_{3} z_{1} - y_{3} z_{2}$"
     },
     "metadata": {},
     "output_type": "display_data"
    }
   ],
   "execution_count": 6
  },
  {
   "cell_type": "markdown",
   "id": "619aebc8896d3ae3",
   "metadata": {
    "collapsed": false
   },
   "source": [
    "\n",
    "---\n",
    "\n",
    "$a_2=$"
   ]
  },
  {
   "cell_type": "code",
   "id": "d823059f646cf6c6",
   "metadata": {
    "collapsed": false,
    "editable": true,
    "slideshow": {
     "slide_type": ""
    },
    "tags": [
     "hide"
    ],
    "ExecuteTime": {
     "end_time": "2024-05-20T02:56:08.813721Z",
     "start_time": "2024-05-20T02:56:08.801468Z"
    }
   },
   "source": [
    "display(a2)"
   ],
   "outputs": [
    {
     "data": {
      "text/plain": [
       "-\\Delta t**2*\\dot{x}_1*\\dot{z}_2 + \\Delta t**2*\\dot{x}_1*\\dot{z}_3 + \\Delta t**2*\\dot{x}_2*\\dot{z}_1 - \\Delta t**2*\\dot{x}_2*\\dot{z}_3 - \\Delta t**2*\\dot{x}_3*\\dot{z}_1 + \\Delta t**2*\\dot{x}_3*\\dot{z}_2 - \\Delta t*\\dot{x}_1*z2 + \\Delta t*\\dot{x}_1*z3 + \\Delta t*\\dot{x}_2*z1 - \\Delta t*\\dot{x}_2*z3 - \\Delta t*\\dot{x}_3*z1 + \\Delta t*\\dot{x}_3*z2 + \\Delta t*\\dot{z}_1*x2 - \\Delta t*\\dot{z}_1*x3 - \\Delta t*\\dot{z}_2*x1 + \\Delta t*\\dot{z}_2*x3 + \\Delta t*\\dot{z}_3*x1 - \\Delta t*\\dot{z}_3*x2 - x1*z2 + x1*z3 + x2*z1 - x2*z3 - x3*z1 + x3*z2"
      ],
      "text/latex": "$\\displaystyle - \\Delta t^{2} \\dot{x}_1 \\dot{z}_2 + \\Delta t^{2} \\dot{x}_1 \\dot{z}_3 + \\Delta t^{2} \\dot{x}_2 \\dot{z}_1 - \\Delta t^{2} \\dot{x}_2 \\dot{z}_3 - \\Delta t^{2} \\dot{x}_3 \\dot{z}_1 + \\Delta t^{2} \\dot{x}_3 \\dot{z}_2 - \\Delta t \\dot{x}_1 z_{2} + \\Delta t \\dot{x}_1 z_{3} + \\Delta t \\dot{x}_2 z_{1} - \\Delta t \\dot{x}_2 z_{3} - \\Delta t \\dot{x}_3 z_{1} + \\Delta t \\dot{x}_3 z_{2} + \\Delta t \\dot{z}_1 x_{2} - \\Delta t \\dot{z}_1 x_{3} - \\Delta t \\dot{z}_2 x_{1} + \\Delta t \\dot{z}_2 x_{3} + \\Delta t \\dot{z}_3 x_{1} - \\Delta t \\dot{z}_3 x_{2} - x_{1} z_{2} + x_{1} z_{3} + x_{2} z_{1} - x_{2} z_{3} - x_{3} z_{1} + x_{3} z_{2}$"
     },
     "metadata": {},
     "output_type": "display_data"
    }
   ],
   "execution_count": 7
  },
  {
   "cell_type": "markdown",
   "id": "75ed40635dba56ff",
   "metadata": {
    "collapsed": false
   },
   "source": [
    "\n",
    "---\n",
    "\n",
    "$a_3=$"
   ]
  },
  {
   "cell_type": "code",
   "id": "c8fb52b72bc41561",
   "metadata": {
    "collapsed": false,
    "editable": true,
    "slideshow": {
     "slide_type": ""
    },
    "tags": [
     "hide"
    ],
    "ExecuteTime": {
     "end_time": "2024-05-20T02:56:08.825892Z",
     "start_time": "2024-05-20T02:56:08.814728Z"
    }
   },
   "source": [
    "display(a3)"
   ],
   "outputs": [
    {
     "data": {
      "text/plain": [
       "\\Delta t**2*\\dot{x}_1*\\dot{y}_2 - \\Delta t**2*\\dot{x}_1*\\dot{y}_3 - \\Delta t**2*\\dot{x}_2*\\dot{y}_1 + \\Delta t**2*\\dot{x}_2*\\dot{y}_3 + \\Delta t**2*\\dot{x}_3*\\dot{y}_1 - \\Delta t**2*\\dot{x}_3*\\dot{y}_2 + \\Delta t*\\dot{x}_1*y2 - \\Delta t*\\dot{x}_1*y3 - \\Delta t*\\dot{x}_2*y1 + \\Delta t*\\dot{x}_2*y3 + \\Delta t*\\dot{x}_3*y1 - \\Delta t*\\dot{x}_3*y2 - \\Delta t*\\dot{y}_1*x2 + \\Delta t*\\dot{y}_1*x3 + \\Delta t*\\dot{y}_2*x1 - \\Delta t*\\dot{y}_2*x3 - \\Delta t*\\dot{y}_3*x1 + \\Delta t*\\dot{y}_3*x2 + x1*y2 - x1*y3 - x2*y1 + x2*y3 + x3*y1 - x3*y2"
      ],
      "text/latex": "$\\displaystyle \\Delta t^{2} \\dot{x}_1 \\dot{y}_2 - \\Delta t^{2} \\dot{x}_1 \\dot{y}_3 - \\Delta t^{2} \\dot{x}_2 \\dot{y}_1 + \\Delta t^{2} \\dot{x}_2 \\dot{y}_3 + \\Delta t^{2} \\dot{x}_3 \\dot{y}_1 - \\Delta t^{2} \\dot{x}_3 \\dot{y}_2 + \\Delta t \\dot{x}_1 y_{2} - \\Delta t \\dot{x}_1 y_{3} - \\Delta t \\dot{x}_2 y_{1} + \\Delta t \\dot{x}_2 y_{3} + \\Delta t \\dot{x}_3 y_{1} - \\Delta t \\dot{x}_3 y_{2} - \\Delta t \\dot{y}_1 x_{2} + \\Delta t \\dot{y}_1 x_{3} + \\Delta t \\dot{y}_2 x_{1} - \\Delta t \\dot{y}_2 x_{3} - \\Delta t \\dot{y}_3 x_{1} + \\Delta t \\dot{y}_3 x_{2} + x_{1} y_{2} - x_{1} y_{3} - x_{2} y_{1} + x_{2} y_{3} + x_{3} y_{1} - x_{3} y_{2}$"
     },
     "metadata": {},
     "output_type": "display_data"
    }
   ],
   "execution_count": 8
  },
  {
   "cell_type": "markdown",
   "id": "3e211bdb37959200",
   "metadata": {
    "collapsed": false
   },
   "source": [
    "\n",
    "---\n",
    "\n",
    "Note that the math in the appendix is missing the negative signs in this step.\n",
    "\n",
    "Furthermore, the slave node also moves at some velocity, \n",
    "\n",
    "$$\n",
    "\\begin{aligned}\n",
    "\\langle x_s(t + \\Delta t), y_s(t + \\Delta t), z_s(t + \\Delta t)\\rangle &= \\\\\n",
    "\\langle x_s(t) + \\dot{x}_s\\Delta t, y_s(t) + \\dot{y}_s\\Delta t, z_s(t) + \\dot{z}_s\\Delta t \\rangle &\n",
    "\\end{aligned}\n",
    "$$\n",
    "\n",
    "A polynomial of $\\Delta t$ can be found by substituting the slave node motion into the master slave plane equation. The solution of $\\Delta t$ is the time is takes for intersection."
   ]
  },
  {
   "cell_type": "code",
   "id": "f8ce34f326d55daf",
   "metadata": {
    "collapsed": false,
    "ExecuteTime": {
     "end_time": "2024-05-20T02:56:09.110437Z",
     "start_time": "2024-05-20T02:56:08.826903Z"
    }
   },
   "source": [
    "xs, ys, zs = sp.symbols('x_s y_s z_s')\n",
    "xs_dot, ys_dot, zs_dot = sp.symbols(r'\\dot{x}_s \\dot{y}_s \\dot{z}_s')\n",
    "\n",
    "slave_sub = del_t_sub.subs([\n",
    "    (x, xs + xs_dot*del_t),\n",
    "    (y, ys + ys_dot*del_t),\n",
    "    (z, zs + zs_dot*del_t)\n",
    "])\n",
    "slave_sub = sp.Eq(slave_sub.lhs.expand().collect((del_t, del_t**2, del_t**3)), 0)\n",
    "b0 = slave_sub.lhs.subs(del_t, 0)\n",
    "b1 = slave_sub.lhs.coeff(del_t)\n",
    "b2 = slave_sub.lhs.coeff(del_t**2)\n",
    "b3 = slave_sub.lhs.coeff(del_t**3)"
   ],
   "outputs": [],
   "execution_count": 9
  },
  {
   "cell_type": "markdown",
   "id": "de104c24b74ad19e",
   "metadata": {
    "collapsed": false
   },
   "source": [
    "The resulting polynomial of $\\Delta t$ is, \n",
    "\n",
    "$$b_0 + b_1\\Delta t + b_2\\Delta t^2 + b_3\\Delta t^3=0$$\n",
    "\n",
    "where\n",
    "\n",
    "$b_0=$"
   ]
  },
  {
   "cell_type": "code",
   "id": "b100bde9f886f5f1",
   "metadata": {
    "collapsed": false,
    "editable": true,
    "slideshow": {
     "slide_type": ""
    },
    "tags": [
     "hide"
    ],
    "ExecuteTime": {
     "end_time": "2024-05-20T02:56:09.328692Z",
     "start_time": "2024-05-20T02:56:09.111444Z"
    }
   },
   "source": [
    "display(b0.collect((x1, x2, x3, xs)).simplify())"
   ],
   "outputs": [
    {
     "data": {
      "text/plain": [
       "-x1*(y2*z3 - y2*z_s - y3*z2 + y3*z_s + y_s*z2 - y_s*z3) + x2*(y1*z3 - y1*z_s - y3*z1 + y3*z_s + y_s*z1 - y_s*z3) - x3*(y1*z2 - y1*z_s - y2*z1 + y2*z_s + y_s*z1 - y_s*z2) + x_s*(y1*z2 - y1*z3 - y2*z1 + y2*z3 + y3*z1 - y3*z2)"
      ],
      "text/latex": "$\\displaystyle - x_{1} \\left(y_{2} z_{3} - y_{2} z_{s} - y_{3} z_{2} + y_{3} z_{s} + y_{s} z_{2} - y_{s} z_{3}\\right) + x_{2} \\left(y_{1} z_{3} - y_{1} z_{s} - y_{3} z_{1} + y_{3} z_{s} + y_{s} z_{1} - y_{s} z_{3}\\right) - x_{3} \\left(y_{1} z_{2} - y_{1} z_{s} - y_{2} z_{1} + y_{2} z_{s} + y_{s} z_{1} - y_{s} z_{2}\\right) + x_{s} \\left(y_{1} z_{2} - y_{1} z_{3} - y_{2} z_{1} + y_{2} z_{3} + y_{3} z_{1} - y_{3} z_{2}\\right)$"
     },
     "metadata": {},
     "output_type": "display_data"
    }
   ],
   "execution_count": 10
  },
  {
   "cell_type": "markdown",
   "id": "c86691abc596e9d2",
   "metadata": {
    "collapsed": false
   },
   "source": [
    "\n",
    "---\n",
    "\n",
    "$b_1=$"
   ]
  },
  {
   "cell_type": "code",
   "id": "23c55505fe39831a",
   "metadata": {
    "collapsed": false,
    "editable": true,
    "slideshow": {
     "slide_type": ""
    },
    "tags": [
     "hide"
    ],
    "ExecuteTime": {
     "end_time": "2024-05-20T02:56:09.591725Z",
     "start_time": "2024-05-20T02:56:09.328692Z"
    }
   },
   "source": [
    "display(b1.collect((x1, x2, x3, xs, x1_dot, x2_dot, x3_dot, xs_dot)).simplify())"
   ],
   "outputs": [
    {
     "data": {
      "text/plain": [
       "-\\dot{x}_1*(y2*z3 - y2*z_s - y3*z2 + y3*z_s + y_s*z2 - y_s*z3) + \\dot{x}_2*(y1*z3 - y1*z_s - y3*z1 + y3*z_s + y_s*z1 - y_s*z3) - \\dot{x}_3*(y1*z2 - y1*z_s - y2*z1 + y2*z_s + y_s*z1 - y_s*z2) + \\dot{x}_s*(y1*z2 - y1*z3 - y2*z1 + y2*z3 + y3*z1 - y3*z2) - x1*(\\dot{y}_2*z3 - \\dot{y}_2*z_s - \\dot{y}_3*z2 + \\dot{y}_3*z_s + \\dot{y}_s*z2 - \\dot{y}_s*z3 - \\dot{z}_2*y3 + \\dot{z}_2*y_s + \\dot{z}_3*y2 - \\dot{z}_3*y_s - \\dot{z}_s*y2 + \\dot{z}_s*y3) + x2*(\\dot{y}_1*z3 - \\dot{y}_1*z_s - \\dot{y}_3*z1 + \\dot{y}_3*z_s + \\dot{y}_s*z1 - \\dot{y}_s*z3 - \\dot{z}_1*y3 + \\dot{z}_1*y_s + \\dot{z}_3*y1 - \\dot{z}_3*y_s - \\dot{z}_s*y1 + \\dot{z}_s*y3) - x3*(\\dot{y}_1*z2 - \\dot{y}_1*z_s - \\dot{y}_2*z1 + \\dot{y}_2*z_s + \\dot{y}_s*z1 - \\dot{y}_s*z2 - \\dot{z}_1*y2 + \\dot{z}_1*y_s + \\dot{z}_2*y1 - \\dot{z}_2*y_s - \\dot{z}_s*y1 + \\dot{z}_s*y2) + x_s*(\\dot{y}_1*z2 - \\dot{y}_1*z3 - \\dot{y}_2*z1 + \\dot{y}_2*z3 + \\dot{y}_3*z1 - \\dot{y}_3*z2 - \\dot{z}_1*y2 + \\dot{z}_1*y3 + \\dot{z}_2*y1 - \\dot{z}_2*y3 - \\dot{z}_3*y1 + \\dot{z}_3*y2)"
      ],
      "text/latex": "$\\displaystyle - \\dot{x}_1 \\left(y_{2} z_{3} - y_{2} z_{s} - y_{3} z_{2} + y_{3} z_{s} + y_{s} z_{2} - y_{s} z_{3}\\right) + \\dot{x}_2 \\left(y_{1} z_{3} - y_{1} z_{s} - y_{3} z_{1} + y_{3} z_{s} + y_{s} z_{1} - y_{s} z_{3}\\right) - \\dot{x}_3 \\left(y_{1} z_{2} - y_{1} z_{s} - y_{2} z_{1} + y_{2} z_{s} + y_{s} z_{1} - y_{s} z_{2}\\right) + \\dot{x}_s \\left(y_{1} z_{2} - y_{1} z_{3} - y_{2} z_{1} + y_{2} z_{3} + y_{3} z_{1} - y_{3} z_{2}\\right) - x_{1} \\left(\\dot{y}_2 z_{3} - \\dot{y}_2 z_{s} - \\dot{y}_3 z_{2} + \\dot{y}_3 z_{s} + \\dot{y}_s z_{2} - \\dot{y}_s z_{3} - \\dot{z}_2 y_{3} + \\dot{z}_2 y_{s} + \\dot{z}_3 y_{2} - \\dot{z}_3 y_{s} - \\dot{z}_s y_{2} + \\dot{z}_s y_{3}\\right) + x_{2} \\left(\\dot{y}_1 z_{3} - \\dot{y}_1 z_{s} - \\dot{y}_3 z_{1} + \\dot{y}_3 z_{s} + \\dot{y}_s z_{1} - \\dot{y}_s z_{3} - \\dot{z}_1 y_{3} + \\dot{z}_1 y_{s} + \\dot{z}_3 y_{1} - \\dot{z}_3 y_{s} - \\dot{z}_s y_{1} + \\dot{z}_s y_{3}\\right) - x_{3} \\left(\\dot{y}_1 z_{2} - \\dot{y}_1 z_{s} - \\dot{y}_2 z_{1} + \\dot{y}_2 z_{s} + \\dot{y}_s z_{1} - \\dot{y}_s z_{2} - \\dot{z}_1 y_{2} + \\dot{z}_1 y_{s} + \\dot{z}_2 y_{1} - \\dot{z}_2 y_{s} - \\dot{z}_s y_{1} + \\dot{z}_s y_{2}\\right) + x_{s} \\left(\\dot{y}_1 z_{2} - \\dot{y}_1 z_{3} - \\dot{y}_2 z_{1} + \\dot{y}_2 z_{3} + \\dot{y}_3 z_{1} - \\dot{y}_3 z_{2} - \\dot{z}_1 y_{2} + \\dot{z}_1 y_{3} + \\dot{z}_2 y_{1} - \\dot{z}_2 y_{3} - \\dot{z}_3 y_{1} + \\dot{z}_3 y_{2}\\right)$"
     },
     "metadata": {},
     "output_type": "display_data"
    }
   ],
   "execution_count": 11
  },
  {
   "cell_type": "markdown",
   "id": "9553175c29b354e0",
   "metadata": {
    "collapsed": false
   },
   "source": [
    "\n",
    "---\n",
    "\n",
    "$b_2=$"
   ]
  },
  {
   "cell_type": "code",
   "id": "b340bac1f65f4f27",
   "metadata": {
    "collapsed": false,
    "editable": true,
    "slideshow": {
     "slide_type": ""
    },
    "tags": [
     "hide"
    ],
    "ExecuteTime": {
     "end_time": "2024-05-20T02:56:09.871121Z",
     "start_time": "2024-05-20T02:56:09.592730Z"
    }
   },
   "source": [
    "display(b2.collect((x1, x2, x3, xs, x1_dot, x2_dot, x3_dot, xs_dot)).simplify())"
   ],
   "outputs": [
    {
     "data": {
      "text/plain": [
       "-\\dot{x}_1*(\\dot{y}_2*z3 - \\dot{y}_2*z_s - \\dot{y}_3*z2 + \\dot{y}_3*z_s + \\dot{y}_s*z2 - \\dot{y}_s*z3 - \\dot{z}_2*y3 + \\dot{z}_2*y_s + \\dot{z}_3*y2 - \\dot{z}_3*y_s - \\dot{z}_s*y2 + \\dot{z}_s*y3) + \\dot{x}_2*(\\dot{y}_1*z3 - \\dot{y}_1*z_s - \\dot{y}_3*z1 + \\dot{y}_3*z_s + \\dot{y}_s*z1 - \\dot{y}_s*z3 - \\dot{z}_1*y3 + \\dot{z}_1*y_s + \\dot{z}_3*y1 - \\dot{z}_3*y_s - \\dot{z}_s*y1 + \\dot{z}_s*y3) - \\dot{x}_3*(\\dot{y}_1*z2 - \\dot{y}_1*z_s - \\dot{y}_2*z1 + \\dot{y}_2*z_s + \\dot{y}_s*z1 - \\dot{y}_s*z2 - \\dot{z}_1*y2 + \\dot{z}_1*y_s + \\dot{z}_2*y1 - \\dot{z}_2*y_s - \\dot{z}_s*y1 + \\dot{z}_s*y2) + \\dot{x}_s*(\\dot{y}_1*z2 - \\dot{y}_1*z3 - \\dot{y}_2*z1 + \\dot{y}_2*z3 + \\dot{y}_3*z1 - \\dot{y}_3*z2 - \\dot{z}_1*y2 + \\dot{z}_1*y3 + \\dot{z}_2*y1 - \\dot{z}_2*y3 - \\dot{z}_3*y1 + \\dot{z}_3*y2) - x1*(\\dot{y}_2*\\dot{z}_3 - \\dot{y}_2*\\dot{z}_s - \\dot{y}_3*\\dot{z}_2 + \\dot{y}_3*\\dot{z}_s + \\dot{y}_s*\\dot{z}_2 - \\dot{y}_s*\\dot{z}_3) + x2*(\\dot{y}_1*\\dot{z}_3 - \\dot{y}_1*\\dot{z}_s - \\dot{y}_3*\\dot{z}_1 + \\dot{y}_3*\\dot{z}_s + \\dot{y}_s*\\dot{z}_1 - \\dot{y}_s*\\dot{z}_3) - x3*(\\dot{y}_1*\\dot{z}_2 - \\dot{y}_1*\\dot{z}_s - \\dot{y}_2*\\dot{z}_1 + \\dot{y}_2*\\dot{z}_s + \\dot{y}_s*\\dot{z}_1 - \\dot{y}_s*\\dot{z}_2) + x_s*(\\dot{y}_1*\\dot{z}_2 - \\dot{y}_1*\\dot{z}_3 - \\dot{y}_2*\\dot{z}_1 + \\dot{y}_2*\\dot{z}_3 + \\dot{y}_3*\\dot{z}_1 - \\dot{y}_3*\\dot{z}_2)"
      ],
      "text/latex": "$\\displaystyle - \\dot{x}_1 \\left(\\dot{y}_2 z_{3} - \\dot{y}_2 z_{s} - \\dot{y}_3 z_{2} + \\dot{y}_3 z_{s} + \\dot{y}_s z_{2} - \\dot{y}_s z_{3} - \\dot{z}_2 y_{3} + \\dot{z}_2 y_{s} + \\dot{z}_3 y_{2} - \\dot{z}_3 y_{s} - \\dot{z}_s y_{2} + \\dot{z}_s y_{3}\\right) + \\dot{x}_2 \\left(\\dot{y}_1 z_{3} - \\dot{y}_1 z_{s} - \\dot{y}_3 z_{1} + \\dot{y}_3 z_{s} + \\dot{y}_s z_{1} - \\dot{y}_s z_{3} - \\dot{z}_1 y_{3} + \\dot{z}_1 y_{s} + \\dot{z}_3 y_{1} - \\dot{z}_3 y_{s} - \\dot{z}_s y_{1} + \\dot{z}_s y_{3}\\right) - \\dot{x}_3 \\left(\\dot{y}_1 z_{2} - \\dot{y}_1 z_{s} - \\dot{y}_2 z_{1} + \\dot{y}_2 z_{s} + \\dot{y}_s z_{1} - \\dot{y}_s z_{2} - \\dot{z}_1 y_{2} + \\dot{z}_1 y_{s} + \\dot{z}_2 y_{1} - \\dot{z}_2 y_{s} - \\dot{z}_s y_{1} + \\dot{z}_s y_{2}\\right) + \\dot{x}_s \\left(\\dot{y}_1 z_{2} - \\dot{y}_1 z_{3} - \\dot{y}_2 z_{1} + \\dot{y}_2 z_{3} + \\dot{y}_3 z_{1} - \\dot{y}_3 z_{2} - \\dot{z}_1 y_{2} + \\dot{z}_1 y_{3} + \\dot{z}_2 y_{1} - \\dot{z}_2 y_{3} - \\dot{z}_3 y_{1} + \\dot{z}_3 y_{2}\\right) - x_{1} \\left(\\dot{y}_2 \\dot{z}_3 - \\dot{y}_2 \\dot{z}_s - \\dot{y}_3 \\dot{z}_2 + \\dot{y}_3 \\dot{z}_s + \\dot{y}_s \\dot{z}_2 - \\dot{y}_s \\dot{z}_3\\right) + x_{2} \\left(\\dot{y}_1 \\dot{z}_3 - \\dot{y}_1 \\dot{z}_s - \\dot{y}_3 \\dot{z}_1 + \\dot{y}_3 \\dot{z}_s + \\dot{y}_s \\dot{z}_1 - \\dot{y}_s \\dot{z}_3\\right) - x_{3} \\left(\\dot{y}_1 \\dot{z}_2 - \\dot{y}_1 \\dot{z}_s - \\dot{y}_2 \\dot{z}_1 + \\dot{y}_2 \\dot{z}_s + \\dot{y}_s \\dot{z}_1 - \\dot{y}_s \\dot{z}_2\\right) + x_{s} \\left(\\dot{y}_1 \\dot{z}_2 - \\dot{y}_1 \\dot{z}_3 - \\dot{y}_2 \\dot{z}_1 + \\dot{y}_2 \\dot{z}_3 + \\dot{y}_3 \\dot{z}_1 - \\dot{y}_3 \\dot{z}_2\\right)$"
     },
     "metadata": {},
     "output_type": "display_data"
    }
   ],
   "execution_count": 12
  },
  {
   "cell_type": "markdown",
   "id": "14b0aa4dbf3ec0fe",
   "metadata": {
    "collapsed": false
   },
   "source": [
    "\n",
    "---\n",
    "\n",
    "$b_3=$"
   ]
  },
  {
   "cell_type": "code",
   "id": "901911c25641452e",
   "metadata": {
    "collapsed": false,
    "editable": true,
    "slideshow": {
     "slide_type": ""
    },
    "tags": [
     "hide"
    ],
    "ExecuteTime": {
     "end_time": "2024-05-20T02:56:09.965398Z",
     "start_time": "2024-05-20T02:56:09.872127Z"
    }
   },
   "source": [
    "display(b3.collect((x1_dot, x2_dot, x3_dot, xs_dot)).simplify())"
   ],
   "outputs": [
    {
     "data": {
      "text/plain": [
       "-\\dot{x}_1*(\\dot{y}_2*\\dot{z}_3 - \\dot{y}_2*\\dot{z}_s - \\dot{y}_3*\\dot{z}_2 + \\dot{y}_3*\\dot{z}_s + \\dot{y}_s*\\dot{z}_2 - \\dot{y}_s*\\dot{z}_3) + \\dot{x}_2*(\\dot{y}_1*\\dot{z}_3 - \\dot{y}_1*\\dot{z}_s - \\dot{y}_3*\\dot{z}_1 + \\dot{y}_3*\\dot{z}_s + \\dot{y}_s*\\dot{z}_1 - \\dot{y}_s*\\dot{z}_3) - \\dot{x}_3*(\\dot{y}_1*\\dot{z}_2 - \\dot{y}_1*\\dot{z}_s - \\dot{y}_2*\\dot{z}_1 + \\dot{y}_2*\\dot{z}_s + \\dot{y}_s*\\dot{z}_1 - \\dot{y}_s*\\dot{z}_2) + \\dot{x}_s*(\\dot{y}_1*\\dot{z}_2 - \\dot{y}_1*\\dot{z}_3 - \\dot{y}_2*\\dot{z}_1 + \\dot{y}_2*\\dot{z}_3 + \\dot{y}_3*\\dot{z}_1 - \\dot{y}_3*\\dot{z}_2)"
      ],
      "text/latex": "$\\displaystyle - \\dot{x}_1 \\left(\\dot{y}_2 \\dot{z}_3 - \\dot{y}_2 \\dot{z}_s - \\dot{y}_3 \\dot{z}_2 + \\dot{y}_3 \\dot{z}_s + \\dot{y}_s \\dot{z}_2 - \\dot{y}_s \\dot{z}_3\\right) + \\dot{x}_2 \\left(\\dot{y}_1 \\dot{z}_3 - \\dot{y}_1 \\dot{z}_s - \\dot{y}_3 \\dot{z}_1 + \\dot{y}_3 \\dot{z}_s + \\dot{y}_s \\dot{z}_1 - \\dot{y}_s \\dot{z}_3\\right) - \\dot{x}_3 \\left(\\dot{y}_1 \\dot{z}_2 - \\dot{y}_1 \\dot{z}_s - \\dot{y}_2 \\dot{z}_1 + \\dot{y}_2 \\dot{z}_s + \\dot{y}_s \\dot{z}_1 - \\dot{y}_s \\dot{z}_2\\right) + \\dot{x}_s \\left(\\dot{y}_1 \\dot{z}_2 - \\dot{y}_1 \\dot{z}_3 - \\dot{y}_2 \\dot{z}_1 + \\dot{y}_2 \\dot{z}_3 + \\dot{y}_3 \\dot{z}_1 - \\dot{y}_3 \\dot{z}_2\\right)$"
     },
     "metadata": {},
     "output_type": "display_data"
    }
   ],
   "execution_count": 13
  },
  {
   "cell_type": "markdown",
   "source": [
    "\n",
    "---\n"
   ],
   "metadata": {
    "collapsed": false
   },
   "id": "de21db2ecf914d9e"
  }
 ],
 "metadata": {
  "kernelspec": {
   "display_name": "Python 3 (ipykernel)",
   "language": "python",
   "name": "python3"
  },
  "language_info": {
   "codemirror_mode": {
    "name": "ipython",
    "version": 3
   },
   "file_extension": ".py",
   "mimetype": "text/x-python",
   "name": "python",
   "nbconvert_exporter": "python",
   "pygments_lexer": "ipython3",
   "version": "3.11.4"
  }
 },
 "nbformat": 4,
 "nbformat_minor": 5
}
