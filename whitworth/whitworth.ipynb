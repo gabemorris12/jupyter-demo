{
 "cells": [
  {
   "cell_type": "code",
   "execution_count": 1,
   "metadata": {
    "pycharm": {
     "name": "#%%\n"
    }
   },
   "source": [
    "from mechanism import *\n",
    "import matplotlib.pyplot as plt\n",
    "import numpy as np\n",
    "from IPython.display import HTML"
   ],
   "outputs": []
  },
  {
   "cell_type": "markdown",
   "metadata": {
    "pycharm": {
     "name": "#%% md\n"
    }
   },
   "source": [
    "The following code block produces an animation using `mechanism`."
   ]
  },
  {
   "cell_type": "code",
   "execution_count": 2,
   "metadata": {
    "pycharm": {
     "name": "#%%\n"
    }
   },
   "source": [
    "# Whitworth mechanism\n",
    "\n",
    "O, A, B, C, Q, D = get_joints('O A B C Q D')\n",
    "\n",
    "a = Vector((A, B), r=2.5)\n",
    "b = Vector((O, B))\n",
    "c = Vector((B, C))\n",
    "d = Vector((Q, C), theta=0, style='ground')\n",
    "e = Vector((A, Q), r=6.5, theta=np.pi/2, style='dotted')\n",
    "f = Vector((A, O), r=3.25, theta=-np.pi/2, style='dotted')\n",
    "g = Vector((C, D), show=False)\n",
    "h = Vector((O, D), r=16)\n",
    "\n",
    "inp = np.linspace(0, 2*np.pi, 200)\n",
    "\n",
    "\n",
    "def loops(x, i):\n",
    "    temp = np.zeros((3, 2))\n",
    "    temp[0] = d(x[3]) - c(x[2], x[0]) - a(i) + e()\n",
    "    temp[1] = a(i) - b(x[1], x[0]) - f()\n",
    "    temp[2] = h(x[0]) - g(x[4], x[5]) - c(x[2], x[0]) - b(x[1], x[0])\n",
    "    return temp.flatten()\n",
    "\n",
    "\n",
    "guess = np.array([np.pi/4, 3, 6, 6, 6, .12])\n",
    "mechanism = Mechanism(vectors=(a, b, c, d, e, f, g, h), origin=O, loops=loops, pos=inp, guess=(guess, ))\n",
    "mechanism.iterate()\n",
    "\n",
    "ani, fig, ax = mechanism.get_animation()\n",
    "plt.close()\n",
    "\n",
    "ax.set_title('Whitworth Quick Return')\n",
    "# ani.save('Whitworth.mp4', dpi=240)\n",
    "\n",
    "HTML(ani.to_jshtml())"
   ],
   "outputs": []
  },
  {
   "cell_type": "markdown",
   "metadata": {
    "pycharm": {
     "name": "#%% md\n"
    }
   },
   "source": [
    "$$e^{i\\theta}=\\cos\\theta+i\\sin\\theta$$"
   ]
  }
 ],
 "metadata": {
  "kernelspec": {
   "display_name": "Python 3 (ipykernel)",
   "language": "python",
   "name": "python3"
  },
  "language_info": {
   "codemirror_mode": {
    "name": "ipython",
    "version": 3
   },
   "file_extension": ".py",
   "mimetype": "text/x-python",
   "name": "python",
   "nbconvert_exporter": "python",
   "pygments_lexer": "ipython3",
   "version": "3.10.4"
  }
 },
 "nbformat": 4,
 "nbformat_minor": 1
}
