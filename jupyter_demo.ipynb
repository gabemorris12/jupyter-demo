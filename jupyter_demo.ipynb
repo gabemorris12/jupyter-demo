{
 "cells": [
  {
   "cell_type": "code",
   "id": "initial_id",
   "metadata": {
    "editable": true,
    "slideshow": {
     "slide_type": ""
    },
    "tags": [],
    "ExecuteTime": {
     "end_time": "2024-05-21T14:57:06.598217Z",
     "start_time": "2024-05-21T14:57:04.806682Z"
    }
   },
   "source": [
    "import sympy as sp\n",
    "import numpy as np\n",
    "import matplotlib.pyplot as plt\n",
    "import pandas as pd\n",
    "\n",
    "plt.style.use('fierro_ipynb.mplstyle')"
   ],
   "outputs": [],
   "execution_count": 1
  },
  {
   "cell_type": "markdown",
   "id": "4249ec3b83e8e8be",
   "metadata": {},
   "source": [
    "\\pagebreak\n",
    "\n",
    "# Introduction\n",
    "A Jupyter Notebook is an open-source web application that allows you to create and share documents containing live code, equations, visualizations, and narrative text. The tool supports over 40 programming languages, including Python and C++. Jupyter Notebooks are ideal for data cleaning and transformation, numerical simulation, statistical modeling, data visualization, machine learning, and much more. Its interactive environment enables users to iterate on code snippets, analyze data on the fly, and document their process, which is invaluable for collaborative and reproducible scientific research, as well as educational purposes. The ability to combine code execution with rich-text elements makes Jupyter Notebooks a versatile tool for comprehensive computational narratives.\n",
    "\n",
    "# Sympy\n",
    "SymPy is a robust Computer Algebra System (CAS) that excels at solving mathematical problems symbolically. As a viable alternative to platforms like Mathematica, SymPy is particularly effective in environments such as Jupyter Notebook, where it can visually demonstrate mathematical procedures. Despite its strengths, SymPy can be slow in some applications, making it less suitable for automation tasks. For behind-the-scenes mathematical computations, it is often more efficient to use numerical methods provided by libraries like NumPy and SciPy.\n",
    "\n",
    "## Sympy Examples\n",
    "### Defining Symbols and Functions"
   ]
  },
  {
   "cell_type": "code",
   "id": "5b39054b95ef3907",
   "metadata": {
    "ExecuteTime": {
     "end_time": "2024-05-21T14:57:06.601125Z",
     "start_time": "2024-05-21T14:57:06.599229Z"
    }
   },
   "source": "",
   "outputs": [],
   "execution_count": 1
  },
  {
   "cell_type": "markdown",
   "id": "30e61c7d8ac47f1f",
   "metadata": {},
   "source": [
    "### Solving Equations"
   ]
  },
  {
   "cell_type": "code",
   "id": "744b5844eef16eee",
   "metadata": {
    "ExecuteTime": {
     "end_time": "2024-05-21T14:57:06.603418Z",
     "start_time": "2024-05-21T14:57:06.601125Z"
    }
   },
   "source": "",
   "outputs": [],
   "execution_count": 1
  },
  {
   "cell_type": "markdown",
   "id": "d8428183d7852b11",
   "metadata": {},
   "source": [
    "# Matplotlib\n",
    "Matplotlib is a widely-used Python library for creating static, interactive, and animated visualizations. It provides a vast array of functions to plot various types of graphs, such as line charts, scatter plots, bar graphs, and more, with fine-grained control over visual styles and layout. This flexibility makes Matplotlib an essential tool for data visualization in scientific computing, and its integration with Jupyter notebooks offers an intuitive workflow for exploratory data analysis.\n",
    "\n",
    "## Matplotlib Examples"
   ]
  },
  {
   "cell_type": "code",
   "id": "19d530e48f9dc56e",
   "metadata": {
    "ExecuteTime": {
     "end_time": "2024-05-21T14:57:06.605793Z",
     "start_time": "2024-05-21T14:57:06.603418Z"
    }
   },
   "source": "",
   "outputs": [],
   "execution_count": 1
  }
 ],
 "metadata": {
  "kernelspec": {
   "display_name": "Python 3 (ipykernel)",
   "language": "python",
   "name": "python3"
  },
  "language_info": {
   "codemirror_mode": {
    "name": "ipython",
    "version": 3
   },
   "file_extension": ".py",
   "mimetype": "text/x-python",
   "name": "python",
   "nbconvert_exporter": "python",
   "pygments_lexer": "ipython3",
   "version": "3.12.0"
  }
 },
 "nbformat": 4,
 "nbformat_minor": 5
}
