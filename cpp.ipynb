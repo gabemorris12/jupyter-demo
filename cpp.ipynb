{
 "cells": [
  {
   "cell_type": "code",
   "execution_count": 1,
   "id": "ca4ac485-6b0b-476c-b4fa-9a18416cf9d9",
   "metadata": {},
   "outputs": [],
   "source": [
    "#pragma cling add_library_path(\"/home/jovin/miniconda3/envs/xeus-cling/lib\")\n",
    "#pragma cling load(\"libkokkoscore\")\n",
    "\n",
    "#define HAVE_KOKKOS 1\n",
    "#define HAVE_THREADS 1\n",
    "\n",
    "#include \"matar.h\"\n",
    "\n",
    "using namespace mtr;"
   ]
  },
  {
   "cell_type": "markdown",
   "id": "8e513523-f7a0-4a3e-a0a4-804c80e698ee",
   "metadata": {},
   "source": [
    "Let's create a function."
   ]
  },
  {
   "cell_type": "code",
   "execution_count": 2,
   "id": "dccdc64a-f01f-4b46-89cc-eab54c57da36",
   "metadata": {},
   "outputs": [],
   "source": [
    "// KOKKOS_FUNCTION\n",
    "void expensive_func(int i)\n",
    "{\n",
    "    // this will not run on the GPU\n",
    "    std::cout << \"Running thread \" << i << std::endl;\n",
    "    std::this_thread::sleep_for(std::chrono::seconds(1));\n",
    "}"
   ]
  },
  {
   "cell_type": "code",
   "execution_count": 3,
   "id": "da581a7f-d335-4055-a9b3-0301308774eb",
   "metadata": {},
   "outputs": [
    {
     "name": "stdout",
     "output_type": "stream",
     "text": [
      "Running thread 0\n",
      "Running thread 1\n",
      "Running thread 2\n",
      "Running thread 3\n",
      "Running thread 4\n",
      "Running thread 5\n",
      "Running thread 6\n",
      "Running thread 7\n",
      "Running thread 8\n",
      "Running thread 9\n"
     ]
    }
   ],
   "source": [
    "Kokkos::initialize();\n",
    "{\n",
    "    FOR_ALL(i, 0, 10, {\n",
    "        // expensive_func(i);\n",
    "        // this will not run on the GPU\n",
    "        std::cout << \"Running thread \" << i << std::endl;\n",
    "        std::this_thread::sleep_for(std::chrono::seconds(1));\n",
    "    });\n",
    "}\n",
    "Kokkos::finalize();"
   ]
  }
 ],
 "metadata": {
  "kernelspec": {
   "display_name": "C++17",
   "language": "C++17",
   "name": "xcpp17"
  },
  "language_info": {
   "codemirror_mode": "text/x-c++src",
   "file_extension": ".cpp",
   "mimetype": "text/x-c++src",
   "name": "c++",
   "version": "17"
  }
 },
 "nbformat": 4,
 "nbformat_minor": 5
}
