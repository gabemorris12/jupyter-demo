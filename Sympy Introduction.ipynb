{
 "cells": [
  {
   "cell_type": "code",
   "execution_count": 1,
   "source": [
    "# Notebook Preamble\n",
    "import matplotlib.pyplot as plt\n",
    "import numpy as np\n",
    "import sympy as sp\n",
    "\n",
    "plt.style.use('../maroon_ipynb.mplstyle')"
   ],
   "metadata": {
    "collapsed": false,
    "ExecuteTime": {
     "end_time": "2023-11-29T14:42:44.790193600Z",
     "start_time": "2023-11-29T14:42:44.000329600Z"
    }
   },
   "id": "1be07371e342c5dd",
   "outputs": []
  },
  {
   "cell_type": "markdown",
   "source": [
    "\\pagebreak\n",
    "\\tableofcontents\n",
    "\\pagebreak\n",
    "\n",
    "# Introduction\n",
    "* The `sympy` package is a Computer Algebra System (CAS), which has the capabilities of solving math problems symbolically.\n",
    "* It essentially is an alternative to mathematica and is useful for showing mathematical procedures, especially in jupyter notebook.\n",
    "* However, it is very slow in some applications; therefore, it is usually not good to use it for automation. Instead, use numerical methods from the `numpy` and `scipy` packages when doing math behind the scenes.\n",
    "\n",
    "# General Functionality\n",
    "* `sympy` primarily works by defining symbols and functions of some variable, then doing some operation on them.\n",
    "\n",
    "## Defining Symbols\n",
    "\n",
    "---\n",
    "**Example:** Define the following symbols and functions: \n",
    "\n",
    "* Symbols: $x,\\ t,\\ s,\\ \\dot{x}$\n",
    "* Functions: $x(t),\\ x(t, s),\\ X(s)$"
   ],
   "metadata": {
    "collapsed": false
   },
   "id": "2f7270cd97e688a3"
  },
  {
   "cell_type": "code",
   "execution_count": 2,
   "source": [
    "# Use the sp.Symbol() to define a symbol one at a time.\n",
    "# Use sp.symbols() define multiple symbols at one time\n",
    "x, t, s, x_dot = sp.symbols(r'x t s \\dot{x}')\n",
    "display(x, t, s, x_dot)"
   ],
   "metadata": {
    "collapsed": false,
    "ExecuteTime": {
     "end_time": "2023-11-29T14:42:44.805659600Z",
     "start_time": "2023-11-29T14:42:44.790193600Z"
    }
   },
   "id": "778bc66b5d313d90",
   "outputs": []
  },
  {
   "cell_type": "code",
   "execution_count": 3,
   "source": [
    "# For functions, we create instances of the sp.Function() class\n",
    "x_t, x_ts, X = sp.Function('x')(t), sp.Function('x')(t, s), sp.Function('X')(s)\n",
    "display(x_t, x_ts, X)"
   ],
   "metadata": {
    "collapsed": false,
    "ExecuteTime": {
     "end_time": "2023-11-29T14:42:44.809262400Z",
     "start_time": "2023-11-29T14:42:44.799212800Z"
    }
   },
   "id": "8f22cc7646b82eae",
   "outputs": []
  },
  {
   "cell_type": "markdown",
   "source": [
    "---\n",
    "\n",
    "* You define the function, then determine what it is a function of by passing in the parameters in the function call.\n",
    "\n",
    "## Substitution\n",
    "\n",
    "---\n",
    "**Example:** Create an expression for $x^2y+5yx+10$, then substitute values $x=5,\\ y=3$."
   ],
   "metadata": {
    "collapsed": false
   },
   "id": "a202fa7dbfac9ce7"
  },
  {
   "cell_type": "code",
   "execution_count": 4,
   "source": [
    "x, y = sp.symbols('x y')\n",
    "expr = x**2*y + 5*x*y + 10\n",
    "expr"
   ],
   "metadata": {
    "collapsed": false,
    "ExecuteTime": {
     "end_time": "2023-11-29T14:42:44.849332600Z",
     "start_time": "2023-11-29T14:42:44.809262400Z"
    }
   },
   "id": "247d31fc48c71fa9",
   "outputs": []
  },
  {
   "cell_type": "markdown",
   "source": [
    "* You use the `.subs` method for substituting in parameters."
   ],
   "metadata": {
    "collapsed": false
   },
   "id": "1045dc993a6b8e5e"
  },
  {
   "cell_type": "code",
   "execution_count": 5,
   "source": [
    "# If multiple arguments, it takes a list of tuples.\n",
    "expr.subs([\n",
    "    (x, 5),\n",
    "    (y, 3)\n",
    "])"
   ],
   "metadata": {
    "collapsed": false,
    "ExecuteTime": {
     "end_time": "2023-11-29T14:42:44.849332600Z",
     "start_time": "2023-11-29T14:42:44.841210500Z"
    }
   },
   "id": "11e0567b4ea14726",
   "outputs": []
  },
  {
   "cell_type": "code",
   "execution_count": 6,
   "source": [
    "# If you wanted to show substitutions without simplifying, this is what you would do\n",
    "with sp.evaluate(False):\n",
    "    # Everything within this context manager will not simplify\n",
    "    expr_subs = expr.subs([\n",
    "        (x, 5),\n",
    "        (y, 3)\n",
    "    ])\n",
    "display(expr_subs, expr_subs.simplify())"
   ],
   "metadata": {
    "collapsed": false,
    "ExecuteTime": {
     "end_time": "2023-11-29T14:42:44.882476500Z",
     "start_time": "2023-11-29T14:42:44.845270300Z"
    }
   },
   "id": "196d244114b6e311",
   "outputs": []
  },
  {
   "cell_type": "code",
   "execution_count": 7,
   "source": [
    "# If you wanted to show it as an equation\n",
    "with sp.evaluate(False):\n",
    "    expr_subs = expr.subs([\n",
    "        (x, 5),\n",
    "        (y, 3)\n",
    "    ])\n",
    "\n",
    "# This is called the Equality class (think of it as an equation class too)\n",
    "# If sympy sees that there are no symbols, it will try to evaluate it as true or false\n",
    "sp.Eq(expr_subs, expr_subs.simplify(), evaluate=False)"
   ],
   "metadata": {
    "collapsed": false,
    "ExecuteTime": {
     "end_time": "2023-11-29T14:42:44.882476500Z",
     "start_time": "2023-11-29T14:42:44.857998Z"
    }
   },
   "id": "7427f05e2a0b8ae",
   "outputs": []
  },
  {
   "cell_type": "markdown",
   "source": [
    "---\n",
    "\n",
    "## Converting from Sympy to Python Function\n",
    "\n",
    "* The `.subs` method is good for showing basic substitutions, but if you needed to perform many different substitutions (like you would when you are plotting points), then you need to *lambdify* the expression.\n",
    "* This just means that we need to convert it from a `sympy` object to python function for fast computation.\n",
    "\n",
    "---\n",
    "**Example:** Convert the `sympy` expression $f(x)=x^2$ into a python function."
   ],
   "metadata": {
    "collapsed": false
   },
   "id": "6470eb24b981db96"
  },
  {
   "cell_type": "code",
   "execution_count": 8,
   "source": [
    "f = x**2  # the variable x was defined above\n",
    "f"
   ],
   "metadata": {
    "collapsed": false,
    "ExecuteTime": {
     "end_time": "2023-11-29T14:42:44.882476500Z",
     "start_time": "2023-11-29T14:42:44.866913Z"
    }
   },
   "id": "aa27c719c6f0c0b0",
   "outputs": []
  },
  {
   "cell_type": "code",
   "execution_count": 9,
   "source": [
    "# Use sp.lambdify() to generate the new function\n",
    "f_lamb = sp.lambdify(x, f, modules='numpy')  # modules='numpy' tells it to use numpy functions if necessary\n",
    "f_lamb"
   ],
   "metadata": {
    "collapsed": false,
    "ExecuteTime": {
     "end_time": "2023-11-29T14:42:44.935302500Z",
     "start_time": "2023-11-29T14:42:44.871546300Z"
    }
   },
   "id": "85e909def4334cc",
   "outputs": []
  },
  {
   "cell_type": "code",
   "execution_count": 10,
   "source": [
    "# f_lamb is essentially equivalent to the following function\n",
    "# def f_lamb(x):\n",
    "#     return x**2\n",
    "\n",
    "# Now we can use it like a normal python function\n",
    "f_lamb(5)"
   ],
   "metadata": {
    "collapsed": false,
    "ExecuteTime": {
     "end_time": "2023-11-29T14:42:44.938813Z",
     "start_time": "2023-11-29T14:42:44.882476500Z"
    }
   },
   "id": "2b4224324cf37f32",
   "outputs": []
  },
  {
   "cell_type": "code",
   "execution_count": 11,
   "source": [
    "x_values = np.array([1, 2, 3, 4])\n",
    "f_lamb(x_values)"
   ],
   "metadata": {
    "collapsed": false,
    "ExecuteTime": {
     "end_time": "2023-11-29T14:42:44.938813Z",
     "start_time": "2023-11-29T14:42:44.888991500Z"
    }
   },
   "id": "22f0c991ca3f35e2",
   "outputs": []
  },
  {
   "cell_type": "markdown",
   "source": [
    "In addition, you can obtain the raw source code of a lambdified object by using the built in `inspect` module from python."
   ],
   "metadata": {
    "collapsed": false
   },
   "id": "6186fc87960b377a"
  },
  {
   "cell_type": "code",
   "execution_count": 12,
   "source": [
    "import inspect\n",
    "\n",
    "print(inspect.getsource(f_lamb))"
   ],
   "metadata": {
    "collapsed": false,
    "ExecuteTime": {
     "end_time": "2023-11-29T14:42:44.968050Z",
     "start_time": "2023-11-29T14:42:44.893263200Z"
    }
   },
   "id": "2d1e55035b63a4be",
   "outputs": []
  },
  {
   "cell_type": "markdown",
   "source": [
    "This can be particularly useful for copying and if you want to perform some analysis in `sympy`, then use the result in a python script file.\n",
    "\n",
    "---\n",
    "\n",
    "# Solving Systems of Equations\n",
    "* Systems can be solved both symbolically and numerically if needed.\n",
    "\n",
    "---\n",
    "**Example:** Solve the following system for $x$ and $y$:\n",
    "\n",
    "$$\\begin{cases}\n",
    "xy+3y+a=7 \\\\\n",
    "y+5x=2\n",
    "\\end{cases}$$"
   ],
   "metadata": {
    "collapsed": false
   },
   "id": "894fb5296cc30c6d"
  },
  {
   "cell_type": "code",
   "execution_count": 13,
   "source": [
    "x, y, a = sp.symbols('x y a')\n",
    "eq1 = sp.Eq(x*y + 3*y + a, 7)\n",
    "eq2 = sp.Eq(y + 5*x, 2)\n",
    "display(eq1, eq2)"
   ],
   "metadata": {
    "collapsed": false,
    "ExecuteTime": {
     "end_time": "2023-11-29T14:42:44.975142300Z",
     "start_time": "2023-11-29T14:42:44.898811800Z"
    }
   },
   "id": "2b4e71805b415075",
   "outputs": []
  },
  {
   "cell_type": "code",
   "execution_count": 14,
   "source": [
    "sol = sp.solve([eq1, eq2], (x, y), dict=True)\n",
    "sol"
   ],
   "metadata": {
    "collapsed": false,
    "ExecuteTime": {
     "end_time": "2023-11-29T14:42:45.106213Z",
     "start_time": "2023-11-29T14:42:44.914406500Z"
    }
   },
   "id": "c1e9e630be42bd34",
   "outputs": []
  },
  {
   "cell_type": "markdown",
   "source": [
    "* Specifying `dict=True` returns a list of dictionaries where the keys are the variable and the value is the solution."
   ],
   "metadata": {
    "collapsed": false
   },
   "id": "f275ca6bbe7da651"
  },
  {
   "cell_type": "code",
   "execution_count": 15,
   "source": [
    "for d in sol:\n",
    "    for key, value in d.items():\n",
    "        display(sp.Eq(key, value))"
   ],
   "metadata": {
    "collapsed": false,
    "ExecuteTime": {
     "end_time": "2023-11-29T14:42:45.127455100Z",
     "start_time": "2023-11-29T14:42:45.104214500Z"
    }
   },
   "id": "d8c5e95815539fe7",
   "outputs": []
  },
  {
   "cell_type": "markdown",
   "source": [
    "* You can check the solution by substituting it, then simplifying the expression."
   ],
   "metadata": {
    "collapsed": false
   },
   "id": "a7bcb311a4957911"
  },
  {
   "cell_type": "code",
   "execution_count": 16,
   "source": [
    "# The .lhs method returns the left hand side of the equation\n",
    "check = eq1.lhs.subs([\n",
    "    (x, sol[0][x]),\n",
    "    (y, sol[0][y])\n",
    "])\n",
    "check"
   ],
   "metadata": {
    "collapsed": false,
    "ExecuteTime": {
     "end_time": "2023-11-29T14:42:45.135370400Z",
     "start_time": "2023-11-29T14:42:45.126250700Z"
    }
   },
   "id": "8da607fab6f30f4e",
   "outputs": []
  },
  {
   "cell_type": "code",
   "execution_count": 17,
   "source": [
    "check.simplify()"
   ],
   "metadata": {
    "collapsed": false,
    "ExecuteTime": {
     "end_time": "2023-11-29T14:42:45.232235100Z",
     "start_time": "2023-11-29T14:42:45.133370800Z"
    }
   },
   "id": "4544ca0a7977b5e1",
   "outputs": []
  },
  {
   "cell_type": "markdown",
   "source": [
    "---\n",
    "**Example:** The following equation cannot be solved algebraically. Solve using numerical methods.\n",
    "\n",
    "$$e^x+x=3$$"
   ],
   "metadata": {
    "collapsed": false
   },
   "id": "96583dc7bd5ce2de"
  },
  {
   "cell_type": "code",
   "execution_count": 18,
   "source": [
    "eq = sp.Eq(sp.exp(x) + x, 3)\n",
    "eq"
   ],
   "metadata": {
    "collapsed": false,
    "ExecuteTime": {
     "end_time": "2023-11-29T14:42:45.233217100Z",
     "start_time": "2023-11-29T14:42:45.156643800Z"
    }
   },
   "id": "30173e36dff88fc7",
   "outputs": []
  },
  {
   "cell_type": "code",
   "execution_count": 19,
   "source": [
    "sol = sp.nsolve(eq, x, 1)  # equation, variable, guess\n",
    "sol"
   ],
   "metadata": {
    "collapsed": false,
    "ExecuteTime": {
     "end_time": "2023-11-29T14:42:45.233217100Z",
     "start_time": "2023-11-29T14:42:45.164469400Z"
    }
   },
   "id": "fdd2403029384ac4",
   "outputs": []
  },
  {
   "cell_type": "markdown",
   "source": [
    "---\n",
    "\n",
    "# Calculus\n",
    "## Differentiation\n",
    "\n",
    "---\n",
    "**Example:** Find the first and second order derivative with respect to $x$ of\n",
    "\n",
    "$$f(x)=x^3+3xy+x^2$$"
   ],
   "metadata": {
    "collapsed": false
   },
   "id": "cf26c42ecb23b4de"
  },
  {
   "cell_type": "code",
   "execution_count": 20,
   "source": [
    "f = x**3 + 3*x*y + x**2\n",
    "f"
   ],
   "metadata": {
    "collapsed": false,
    "ExecuteTime": {
     "end_time": "2023-11-29T14:42:45.233217100Z",
     "start_time": "2023-11-29T14:42:45.169533700Z"
    }
   },
   "id": "bf2caff5e0a991f",
   "outputs": []
  },
  {
   "cell_type": "code",
   "execution_count": 21,
   "source": [
    "f.diff(x)"
   ],
   "metadata": {
    "collapsed": false,
    "ExecuteTime": {
     "end_time": "2023-11-29T14:42:45.233217100Z",
     "start_time": "2023-11-29T14:42:45.175023Z"
    }
   },
   "id": "183cfb56088da29f",
   "outputs": []
  },
  {
   "cell_type": "code",
   "execution_count": 22,
   "source": [
    "# For second order derivative:\n",
    "f.diff(x, 2)"
   ],
   "metadata": {
    "collapsed": false,
    "ExecuteTime": {
     "end_time": "2023-11-29T14:42:45.233217100Z",
     "start_time": "2023-11-29T14:42:45.184180400Z"
    }
   },
   "id": "46c84126ec058732",
   "outputs": []
  },
  {
   "cell_type": "markdown",
   "source": [
    "---\n",
    "\n",
    "## Integration\n",
    "\n",
    "---\n",
    "**Example:** Find $\\int\\ln(x)dx$"
   ],
   "metadata": {
    "collapsed": false
   },
   "id": "7beadc5103ed8bc4"
  },
  {
   "cell_type": "code",
   "execution_count": 23,
   "source": [
    "integral = sp.Integral(sp.log(x), x)\n",
    "integral"
   ],
   "metadata": {
    "collapsed": false,
    "ExecuteTime": {
     "end_time": "2023-11-29T14:42:45.233217100Z",
     "start_time": "2023-11-29T14:42:45.193913Z"
    }
   },
   "id": "5050940213f546a7",
   "outputs": []
  },
  {
   "cell_type": "markdown",
   "source": [
    "* Note that the $\\log(x)$ function is equivalent to the $\\ln(x)$ function in `sympy`.\n",
    "* The above example shows the `Integral` class, but you can evaluate it by calling the `.doit()` method. This way of doing things may be desired for making sure that you set it up appropriately. The same concept can be done for other operations like the `Derivative` class."
   ],
   "metadata": {
    "collapsed": false
   },
   "id": "8419fca6884fcd4e"
  },
  {
   "cell_type": "code",
   "execution_count": 24,
   "source": [
    "integral.doit()"
   ],
   "metadata": {
    "collapsed": false,
    "ExecuteTime": {
     "end_time": "2023-11-29T14:42:45.341763300Z",
     "start_time": "2023-11-29T14:42:45.199094600Z"
    }
   },
   "id": "154efbcd5570c03f",
   "outputs": []
  },
  {
   "cell_type": "code",
   "execution_count": 25,
   "source": [
    "# Alternatively, you can use the integrate() method\n",
    "(sp.log(x)).integrate(x)"
   ],
   "metadata": {
    "collapsed": false,
    "ExecuteTime": {
     "end_time": "2023-11-29T14:42:45.344767300Z",
     "start_time": "2023-11-29T14:42:45.253122300Z"
    }
   },
   "id": "ddd7d9736a80d9ac",
   "outputs": []
  },
  {
   "cell_type": "markdown",
   "source": [
    "---\n",
    "\n",
    "# Differential Equations\n",
    "## Solving ODE's\n",
    "\n",
    "---\n",
    "**Example:** Solve $y''+y=\\tan(x)$"
   ],
   "metadata": {
    "collapsed": false
   },
   "id": "cd47a4590ba17c2"
  },
  {
   "cell_type": "code",
   "execution_count": 26,
   "source": [
    "y = sp.Function('y')(x)\n",
    "eq = sp.Eq(y.diff(x, 2) + y, sp.tan(x))\n",
    "eq"
   ],
   "metadata": {
    "collapsed": false,
    "ExecuteTime": {
     "end_time": "2023-11-29T14:42:45.346767200Z",
     "start_time": "2023-11-29T14:42:45.280417700Z"
    }
   },
   "id": "d3f66a52cfed612e",
   "outputs": []
  },
  {
   "cell_type": "code",
   "execution_count": 27,
   "source": [
    "sol = sp.dsolve(eq)\n",
    "sol"
   ],
   "metadata": {
    "collapsed": false,
    "ExecuteTime": {
     "end_time": "2023-11-29T14:42:45.639003500Z",
     "start_time": "2023-11-29T14:42:45.289224800Z"
    }
   },
   "id": "75618683148c34a3",
   "outputs": []
  },
  {
   "cell_type": "code",
   "execution_count": 28,
   "source": [
    "# Checking solution\n",
    "check = sol.rhs.diff(x, 2) + sol.rhs\n",
    "check.simplify()"
   ],
   "metadata": {
    "collapsed": false,
    "ExecuteTime": {
     "end_time": "2023-11-29T14:42:45.858788900Z",
     "start_time": "2023-11-29T14:42:45.628828200Z"
    }
   },
   "id": "362f962f52858c4c",
   "outputs": []
  },
  {
   "cell_type": "markdown",
   "source": [
    "---\n",
    "**Example:** Solve the system of ODE's with $x(0)=0$ and $y(0)=1$:\n",
    "\n",
    "$$\\begin{cases}\n",
    "\\frac{dx}{dt}=-x+y \\\\\n",
    "\\frac{dy}{dt}=2x\n",
    "\\end{cases}$$"
   ],
   "metadata": {
    "collapsed": false
   },
   "id": "d4e16388ee03b13"
  },
  {
   "cell_type": "code",
   "execution_count": 29,
   "source": [
    "t = sp.Symbol('t')\n",
    "x, y = sp.Function('x')(t), sp.Function('y')(t)\n",
    "\n",
    "eq1 = sp.Eq(x.diff(), -x + y)\n",
    "eq2 = sp.Eq(y.diff(), 2*x)\n",
    "display(eq1, eq2)"
   ],
   "metadata": {
    "collapsed": false,
    "ExecuteTime": {
     "end_time": "2023-11-29T14:42:45.858788900Z",
     "start_time": "2023-11-29T14:42:45.824077500Z"
    }
   },
   "id": "7053d93d560a8e4",
   "outputs": []
  },
  {
   "cell_type": "code",
   "execution_count": 30,
   "source": [
    "sol = sp.dsolve([eq1, eq2], ics={\n",
    "    x.subs(t, 0): 0,\n",
    "    y.subs(t, 0): 1\n",
    "})\n",
    "sol"
   ],
   "metadata": {
    "collapsed": false,
    "ExecuteTime": {
     "end_time": "2023-11-29T14:42:45.948025900Z",
     "start_time": "2023-11-29T14:42:45.835667Z"
    }
   },
   "id": "87921d3282429b7d",
   "outputs": []
  },
  {
   "cell_type": "code",
   "execution_count": 31,
   "source": [
    "display(*sol)  # unpacking is the same as display(sol[0], sol[1])"
   ],
   "metadata": {
    "collapsed": false,
    "ExecuteTime": {
     "end_time": "2023-11-29T14:42:45.970072200Z",
     "start_time": "2023-11-29T14:42:45.949026600Z"
    }
   },
   "id": "f5ddcfd025cdb7fd",
   "outputs": []
  },
  {
   "cell_type": "markdown",
   "source": [
    "---\n",
    "**Example:** Solve $y''-10y'+25y=30x+3$ with $y(0)=1$ and $y'(0)=3$ and plot the function by `lambdifying` the solution."
   ],
   "metadata": {
    "collapsed": false
   },
   "id": "83804e959895a717"
  },
  {
   "cell_type": "code",
   "execution_count": 32,
   "source": [
    "x = sp.Symbol('x')  # re-defining as symbol because it was previously defined as a function\n",
    "y = sp.Function('y')(x)\n",
    "eq = sp.Eq(y.diff(x, 2) - 10*y.diff() + 25*y, 30*x + 3)\n",
    "eq"
   ],
   "metadata": {
    "collapsed": false,
    "ExecuteTime": {
     "end_time": "2023-11-29T14:42:46.022531300Z",
     "start_time": "2023-11-29T14:42:45.959552900Z"
    }
   },
   "id": "93fe5df430894928",
   "outputs": []
  },
  {
   "cell_type": "code",
   "execution_count": 33,
   "source": [
    "sol = sp.dsolve(eq, ics={\n",
    "    y.subs(x, 0): 1,\n",
    "    y.diff().subs(x, 0): 3\n",
    "})\n",
    "sol"
   ],
   "metadata": {
    "collapsed": false,
    "ExecuteTime": {
     "end_time": "2023-11-29T14:42:46.144914700Z",
     "start_time": "2023-11-29T14:42:46.001814600Z"
    }
   },
   "id": "5002d71b47bb178a",
   "outputs": []
  },
  {
   "cell_type": "code",
   "execution_count": 34,
   "source": [
    "y_lamb = sp.lambdify(x, sol.rhs, modules='numpy')\n",
    "t_ = np.linspace(0, 2, 500)  # array from 0 to 2 with a size of 500\n",
    "\n",
    "plt.plot(t_, y_lamb(t_))\n",
    "plt.show()"
   ],
   "metadata": {
    "collapsed": false,
    "ExecuteTime": {
     "end_time": "2023-11-29T14:42:46.974238600Z",
     "start_time": "2023-11-29T14:42:46.144914700Z"
    }
   },
   "id": "9da9b565b9f17815",
   "outputs": []
  },
  {
   "cell_type": "markdown",
   "source": [
    "---\n",
    "\n",
    "## Laplace Transforms\n",
    "* Laplace transforms in `sympy` as of version 1.12 are lacking. A re-design of this part of the package is coming in a later version as seen [here](https://github.com/sympy/sympy/issues/24561).\n",
    "\n",
    "---\n",
    "**Example:** Find the laplace transform of $f(t)=2\\cos(5t)$."
   ],
   "metadata": {
    "collapsed": false
   },
   "id": "3f5ad06ac5865b42"
  },
  {
   "cell_type": "code",
   "execution_count": 35,
   "source": [
    "s, t = sp.symbols('s t')\n",
    "sp.laplace_transform(2*sp.cos(5*t), t, s)[0]"
   ],
   "metadata": {
    "collapsed": false,
    "ExecuteTime": {
     "end_time": "2023-11-29T14:42:47.339269800Z",
     "start_time": "2023-11-29T14:42:46.959825100Z"
    }
   },
   "id": "45eee34b47a6c2bb",
   "outputs": []
  },
  {
   "cell_type": "markdown",
   "source": [
    "---\n",
    "**Example:** Solve the following ODE using laplace transforms:\n",
    "\n",
    "$$\\ddot{x}+20\\dot{x}+1000=\n",
    "\\begin{cases}\n",
    "t\\ 0\\le t<1 \\\\\n",
    "1\\ t\\ge1\n",
    "\\end{cases}$$\n",
    "\n",
    "The initial conditions are zero."
   ],
   "metadata": {
    "collapsed": false
   },
   "id": "ee838700dfde2982"
  },
  {
   "cell_type": "code",
   "execution_count": 36,
   "source": [
    "# sympy cannot do laplace transforms of piecewise functions yet, but that is in the works\n",
    "# Instead, use the answer that was found by hand in class\n",
    "X = sp.Function('X')(s)\n",
    "eq = sp.Eq(s**2*X + 20*s*X + 1000*X, 1/s**2 - 1/s**2*sp.exp(-s))\n",
    "eq"
   ],
   "metadata": {
    "collapsed": false,
    "ExecuteTime": {
     "end_time": "2023-11-29T14:42:47.339269800Z",
     "start_time": "2023-11-29T14:42:47.179685700Z"
    }
   },
   "id": "e6d955eda9ce2ab1",
   "outputs": []
  },
  {
   "cell_type": "code",
   "execution_count": 37,
   "source": [
    "sol = sp.solve(eq, X)[0]\n",
    "sol"
   ],
   "metadata": {
    "collapsed": false,
    "ExecuteTime": {
     "end_time": "2023-11-29T14:42:47.339269800Z",
     "start_time": "2023-11-29T14:42:47.190576200Z"
    }
   },
   "id": "3d11556a3a0b1711",
   "outputs": []
  },
  {
   "cell_type": "code",
   "execution_count": 38,
   "source": [
    "x_t = sp.inverse_laplace_transform(sol, s, t).simplify()\n",
    "x_t"
   ],
   "metadata": {
    "collapsed": false,
    "ExecuteTime": {
     "end_time": "2023-11-29T14:42:48.588977900Z",
     "start_time": "2023-11-29T14:42:47.290668200Z"
    }
   },
   "id": "5dd18a459aab9fa7",
   "outputs": []
  },
  {
   "cell_type": "markdown",
   "source": [
    "* Note that the $\\theta(t)$ is the heaviside function (or unit step function)."
   ],
   "metadata": {
    "collapsed": false
   },
   "id": "7f543137003aa011"
  },
  {
   "cell_type": "code",
   "execution_count": 39,
   "source": [
    "x_lamb = sp.lambdify(t, x_t, modules='numpy')\n",
    "t_ = np.linspace(0, 2, 500)\n",
    "plt.plot(t_, x_lamb(t_))\n",
    "plt.show()"
   ],
   "metadata": {
    "collapsed": false,
    "ExecuteTime": {
     "end_time": "2023-11-29T14:42:51.911219100Z",
     "start_time": "2023-11-29T14:42:48.559344800Z"
    }
   },
   "id": "cdbfb31db7097fba",
   "outputs": []
  },
  {
   "cell_type": "markdown",
   "source": [
    "---\n",
    "\n",
    "# Linear Algebra\n",
    "* `sympy` is wonderful for visualizing matrices as it is able to output \\LaTeX\\ matrices through jupyter notebook.\n",
    "\n",
    "---\n",
    "**Example:** Solve the following system by converting it to the matrix form, then augment the solution vector and put the matrix in the reduced row echelon form.\n",
    "\n",
    "$$\\begin{cases}\n",
    "x_1-x_2+2x_3=4 \\\\\n",
    "x_2-3x_3=2\n",
    "\\end{cases}$$"
   ],
   "metadata": {
    "collapsed": false
   },
   "id": "e7705bbec73a8e3"
  },
  {
   "cell_type": "code",
   "execution_count": 40,
   "source": [
    "x1, x2, x3 = sp.symbols('x1:4')  # defines sequence of symbols from 1 to 3\n",
    "eq1 = sp.Eq(x1 - x2 + 2*x3, 4)\n",
    "eq2 = sp.Eq(x2 - 3*x3, 2)\n",
    "eq3 = sp.Eq(2*x1 + x2 - 4*x3, 2)\n",
    "display(eq1, eq2, eq3)"
   ],
   "metadata": {
    "collapsed": false,
    "ExecuteTime": {
     "end_time": "2023-11-29T14:42:51.926510900Z",
     "start_time": "2023-11-29T14:42:51.911219100Z"
    }
   },
   "id": "4ca54ed4a87b5517",
   "outputs": []
  },
  {
   "cell_type": "code",
   "execution_count": 41,
   "source": [
    "# Convert it to the matrix form\n",
    "A, b = sp.linear_eq_to_matrix([eq1, eq2, eq3], (x1, x2, x3))\n",
    "sp.Eq(A*sp.Matrix([x1, x2, x3]), b)"
   ],
   "metadata": {
    "collapsed": false,
    "ExecuteTime": {
     "end_time": "2023-11-29T14:42:51.940235500Z",
     "start_time": "2023-11-29T14:42:51.926510900Z"
    }
   },
   "id": "f91ddcf076a8059c",
   "outputs": []
  },
  {
   "cell_type": "code",
   "execution_count": 42,
   "source": [
    "augmented = A.col_insert(3, b)\n",
    "augmented"
   ],
   "metadata": {
    "collapsed": false,
    "ExecuteTime": {
     "end_time": "2023-11-29T14:42:52.222432800Z",
     "start_time": "2023-11-29T14:42:51.935726200Z"
    }
   },
   "id": "1c10eaf69527a64b",
   "outputs": []
  },
  {
   "cell_type": "code",
   "execution_count": 43,
   "source": [
    "augmented.rref()[0]"
   ],
   "metadata": {
    "collapsed": false,
    "ExecuteTime": {
     "end_time": "2023-11-29T14:42:52.222432800Z",
     "start_time": "2023-11-29T14:42:51.940741300Z"
    }
   },
   "id": "a20284d91978c102",
   "outputs": []
  }
 ],
 "metadata": {
  "kernelspec": {
   "display_name": "Python 3",
   "language": "python",
   "name": "python3"
  },
  "language_info": {
   "codemirror_mode": {
    "name": "ipython",
    "version": 2
   },
   "file_extension": ".py",
   "mimetype": "text/x-python",
   "name": "python",
   "nbconvert_exporter": "python",
   "pygments_lexer": "ipython2",
   "version": "2.7.6"
  }
 },
 "nbformat": 4,
 "nbformat_minor": 5
}
